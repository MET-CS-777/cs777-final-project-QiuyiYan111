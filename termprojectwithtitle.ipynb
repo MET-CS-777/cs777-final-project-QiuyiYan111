{
  "nbformat": 4,
  "nbformat_minor": 0,
  "metadata": {
    "colab": {
      "provenance": []
    },
    "kernelspec": {
      "name": "python3",
      "display_name": "Python 3"
    },
    "language_info": {
      "name": "python"
    }
  },
  "cells": [
    {
      "cell_type": "code",
      "execution_count": 1,
      "metadata": {
        "colab": {
          "base_uri": "https://localhost:8080/"
        },
        "id": "CSbp1C0sSsDM",
        "outputId": "6005e9b1-4031-49d9-b9ae-c8be82cc8022"
      },
      "outputs": [
        {
          "output_type": "stream",
          "name": "stdout",
          "text": [
            "\u001b[2K     \u001b[90m━━━━━━━━━━━━━━━━━━━━━━━━━━━━━━━━━━━━━━━━\u001b[0m \u001b[32m281.4/281.4 MB\u001b[0m \u001b[31m5.0 MB/s\u001b[0m eta \u001b[36m0:00:00\u001b[0m\n",
            "\u001b[?25h  Preparing metadata (setup.py) ... \u001b[?25l\u001b[?25hdone\n",
            "\u001b[2K   \u001b[90m━━━━━━━━━━━━━━━━━━━━━━━━━━━━━━━━━━━━━━━━\u001b[0m \u001b[32m199.0/199.0 kB\u001b[0m \u001b[31m8.0 MB/s\u001b[0m eta \u001b[36m0:00:00\u001b[0m\n",
            "\u001b[?25h  Building wheel for pyspark (setup.py) ... \u001b[?25l\u001b[?25hdone\n"
          ]
        }
      ],
      "source": [
        "!pip install --ignore-installed -q pyspark==3.2.1"
      ]
    },
    {
      "cell_type": "code",
      "source": [
        "from google.colab import drive\n",
        "drive.mount('/content/drive')"
      ],
      "metadata": {
        "colab": {
          "base_uri": "https://localhost:8080/"
        },
        "id": "AUnOa6muSyWa",
        "outputId": "d9c8f6a8-5b59-4324-e0e6-0b1742073699"
      },
      "execution_count": 2,
      "outputs": [
        {
          "output_type": "stream",
          "name": "stdout",
          "text": [
            "Mounted at /content/drive\n"
          ]
        }
      ]
    },
    {
      "cell_type": "code",
      "source": [
        "from pyspark.sql import SparkSession\n",
        "from pyspark.sql import functions as F\n",
        "from pyspark.ml.feature import StringIndexer, OneHotEncoder, VectorAssembler\n",
        "from pyspark.ml.classification import LogisticRegression\n",
        "from pyspark.ml import Pipeline\n",
        "from pyspark.ml.evaluation import MulticlassClassificationEvaluator, BinaryClassificationEvaluator\n",
        "from pyspark.sql.functions import col, split, array, collect_list,when,explode\n",
        "from pyspark.ml.feature import Tokenizer, CountVectorizer\n",
        "from pyspark.ml.classification import LogisticRegression, LinearSVC\n",
        "from pyspark.mllib.evaluation import MulticlassMetrics\n",
        "from pyspark.sql import SparkSession\n",
        "from pyspark.sql.functions import col, when, split\n",
        "from pyspark.ml.feature import StringIndexer, VectorAssembler, HashingTF, IDF\n",
        "from pyspark.ml.classification import LogisticRegression, LinearSVC\n",
        "from pyspark.ml.evaluation import MulticlassClassificationEvaluator"
      ],
      "metadata": {
        "id": "sMkR9EBIS1Ve"
      },
      "execution_count": 3,
      "outputs": []
    },
    {
      "cell_type": "code",
      "source": [
        "# 初始化Spark Session\n",
        "spark = SparkSession.builder.appName(\"MovieLensPredictionWithTFIDF\").getOrCreate()\n",
        "\n",
        "# Load the ratings and movies datasets\n",
        "ratings = spark.read.csv(\"/content/drive/MyDrive/ratingsmall.csv\", header=True, inferSchema=True)\n",
        "movies = spark.read.csv(\"/content/drive/MyDrive/moviesmall.csv\", header=True, inferSchema=True)\n",
        "\n",
        "# 1. 将评分转换为二分类标签: 1 表示评分 >= 4.0，0 表示评分 < 4.0\n",
        "ratings = ratings.withColumn(\"label\", when(col(\"rating\") >= 4.0, 1).otherwise(0))"
      ],
      "metadata": {
        "id": "xOXPzGvxS4D4"
      },
      "execution_count": 4,
      "outputs": []
    },
    {
      "cell_type": "code",
      "source": [
        "# 2. 将userId和movieId转换为索引列\n",
        "user_indexer = StringIndexer(inputCol=\"userId\", outputCol=\"userIndex\").fit(ratings)\n",
        "movie_indexer = StringIndexer(inputCol=\"movieId\", outputCol=\"movieIndex\").fit(ratings)\n",
        "\n",
        "ratings = user_indexer.transform(ratings)\n",
        "ratings = movie_indexer.transform(ratings)"
      ],
      "metadata": {
        "id": "Yz42CqiwS8xW"
      },
      "execution_count": 5,
      "outputs": []
    },
    {
      "cell_type": "code",
      "source": [
        "movies = movies.withColumn(\"genres\", split(col(\"genres\"), \"\\|\"))\n",
        "movies = movies.withColumn(\"title\", split(col(\"title\"), \" \"))\n"
      ],
      "metadata": {
        "id": "l0EGjD3CTixc"
      },
      "execution_count": 7,
      "outputs": []
    },
    {
      "cell_type": "code",
      "source": [
        "# 3. 处理genres列，使用TF-IDF\n",
        "hashingTF_genres = HashingTF(inputCol=\"genres\", outputCol=\"rawGenreFeatures\", numFeatures=20)\n",
        "movies = hashingTF_genres.transform(movies)\n",
        "\n",
        "idf_genres = IDF(inputCol=\"rawGenreFeatures\", outputCol=\"genreFeatures\")\n",
        "idf_model_genres = idf_genres.fit(movies)\n",
        "movies = idf_model_genres.transform(movies)\n",
        "\n",
        "# 4. 处理title列，使用TF-IDF\n",
        "hashingTF_titles = HashingTF(inputCol=\"title\", outputCol=\"rawTitleFeatures\", numFeatures=20)\n",
        "movies = hashingTF_titles.transform(movies)\n",
        "\n",
        "idf_titles = IDF(inputCol=\"rawTitleFeatures\", outputCol=\"titleFeatures\")\n",
        "idf_model_titles = idf_titles.fit(movies)\n",
        "movies = idf_model_titles.transform(movies)"
      ],
      "metadata": {
        "id": "C8P2TudlTQmT"
      },
      "execution_count": 8,
      "outputs": []
    },
    {
      "cell_type": "code",
      "source": [
        "# 5. 将处理后的movies数据与ratings数据结合\n",
        "ratings_with_features = ratings.join(movies.select(\"movieId\", \"genreFeatures\", \"titleFeatures\"), on=\"movieId\", how=\"left\")\n",
        "ratings_with_features.show()"
      ],
      "metadata": {
        "colab": {
          "base_uri": "https://localhost:8080/"
        },
        "id": "fervb8qSTuJr",
        "outputId": "77051d15-c276-43be-f28f-7edb8402d038"
      },
      "execution_count": 10,
      "outputs": [
        {
          "output_type": "stream",
          "name": "stdout",
          "text": [
            "+-------+------+------+---------+-----+---------+----------+--------------------+--------------------+\n",
            "|movieId|userId|rating|timestamp|label|userIndex|movieIndex|       genreFeatures|       titleFeatures|\n",
            "+-------+------+------+---------+-----+---------+----------+--------------------+--------------------+\n",
            "|      1|     1|   4.0|964982703|    1|    111.0|      11.0|(20,[0,6,10,12,19...|(20,[2,9,17],[1.8...|\n",
            "|      3|     1|   4.0|964981247|    1|    111.0|     422.0|(20,[8,19],[1.465...|(20,[6,7,9,17],[1...|\n",
            "|      6|     1|   4.0|964982224|    1|    111.0|     129.0|(20,[0,14,19],[1....|(20,[1,17],[1.750...|\n",
            "|     47|     1|   5.0|964983815|    1|    111.0|      15.0|(20,[8,14],[1.465...|(20,[4,10,17],[1....|\n",
            "|     50|     1|   5.0|964982931|    1|    111.0|      14.0|(20,[8,14,19],[1....|(20,[0,1,12,17],[...|\n",
            "|     70|     1|   3.0|964982400|    0|    111.0|     390.0|(20,[0,14,19],[2....|(20,[1,6,11,15],[...|\n",
            "|    101|     1|   5.0|964980868|    1|    111.0|    1095.0|(20,[8,10,19],[1....|(20,[6,8],[3.1262...|\n",
            "|    110|     1|   4.0|964982176|    1|    111.0|       7.0|(20,[0,6,17],[1.0...|(20,[12,17],[1.63...|\n",
            "|    151|     1|   5.0|964984041|    1|    111.0|     534.0|(20,[0,6,8,17],[1...|(20,[8,15,17],[1....|\n",
            "|    157|     1|   5.0|964984100|    1|    111.0|    1991.0|(20,[6,19],[2.289...|(20,[3,16,17],[1....|\n",
            "|    163|     1|   5.0|964983650|    1|    111.0|     280.0|(20,[0,8],[1.0991...|(20,[5,17],[2.099...|\n",
            "|    216|     1|   5.0|964981208|    1|    111.0|     451.0|(20,[19],[0.74075...|(20,[1,8,17],[1.7...|\n",
            "|    223|     1|   3.0|964980985|    0|    111.0|     121.0|(20,[19],[0.74075...|(20,[3,13],[1.577...|\n",
            "|    231|     1|   5.0|964981179|    1|    111.0|      63.0|(20,[10,19],[2.04...|(20,[3,6,8,11,14,...|\n",
            "|    235|     1|   4.0|964980908|    1|    111.0|     254.0|(20,[17,19],[0.80...|(20,[3,7,14],[1.5...|\n",
            "|    260|     1|   5.0|964981680|    1|    111.0|       5.0|(20,[0,10,16],[1....|(20,[3,7,10,11,12...|\n",
            "|    296|     1|   3.0|964982967|    0|    111.0|       2.0|(20,[14,17,19],[1...|(20,[0,3],[2.1002...|\n",
            "|    316|     1|   3.0|964982310|    0|    111.0|      58.0|(20,[0,10,16],[1....|(20,[3,9],[1.5774...|\n",
            "|    333|     1|   5.0|964981179|    1|    111.0|     440.0|(20,[19],[0.74075...|(20,[0,13,17],[1....|\n",
            "|    349|     1|   4.0|964982563|    1|    111.0|     103.0|(20,[0,14,17,19],...|(20,[3,7,11,15,17...|\n",
            "+-------+------+------+---------+-----+---------+----------+--------------------+--------------------+\n",
            "only showing top 20 rows\n",
            "\n"
          ]
        }
      ]
    },
    {
      "cell_type": "code",
      "source": [
        "# 6. 将所有特征合并为一个特征向量\n",
        "assembler = VectorAssembler(inputCols=[\"userIndex\", \"movieIndex\", \"timestamp\", \"genreFeatures\", \"titleFeatures\"], outputCol=\"features\")\n",
        "ratings_with_features = assembler.transform(ratings_with_features)"
      ],
      "metadata": {
        "id": "5Ddf0Fe-T7Fh"
      },
      "execution_count": 11,
      "outputs": []
    },
    {
      "cell_type": "code",
      "source": [
        "# 7. 分割数据为训练集和测试集\n",
        "train, test = ratings_with_features.randomSplit([0.8, 0.2], seed=1234)"
      ],
      "metadata": {
        "id": "t82AUoMsT-CG"
      },
      "execution_count": 12,
      "outputs": []
    },
    {
      "cell_type": "code",
      "source": [
        "# 8. 逻辑回归模型\n",
        "# 初始化逻辑回归模型\n",
        "lr = LogisticRegression(featuresCol=\"features\", labelCol=\"label\", maxIter=10)\n",
        "\n",
        "# 训练逻辑回归模型\n",
        "lr_model = lr.fit(train)\n",
        "\n",
        "# 在测试集上进行预测\n",
        "lr_predictions = lr_model.transform(test)\n",
        "\n",
        "# 评估逻辑回归模型性能\n",
        "evaluator = MulticlassClassificationEvaluator(labelCol=\"label\", predictionCol=\"prediction\", metricName=\"accuracy\")\n",
        "lr_accuracy = evaluator.evaluate(lr_predictions)\n",
        "print(f\"Logistic Regression Accuracy with Binary Labels: {lr_accuracy:.4f}\")\n",
        "\n",
        "# 计算逻辑回归模型的混淆矩阵\n",
        "lr_conf_matrix = lr_predictions.groupBy(\"label\", \"prediction\").count()\n",
        "lr_conf_matrix.show()\n",
        "\n",
        "# 计算混淆矩阵的四个核心值\n",
        "tp_lr = lr_conf_matrix.filter((col(\"label\") == 1) & (col(\"prediction\") == 1)).select(F.col(\"count\")).collect()[0][0]\n",
        "tn_lr = lr_conf_matrix.filter((col(\"label\") == 0) & (col(\"prediction\") == 0)).select(F.col(\"count\")).collect()[0][0]\n",
        "fp_lr = lr_conf_matrix.filter((col(\"label\") == 0) & (col(\"prediction\") == 1)).select(F.col(\"count\")).collect()[0][0]\n",
        "fn_lr = lr_conf_matrix.filter((col(\"label\") == 1) & (col(\"prediction\") == 0)).select(F.col(\"count\")).collect()[0][0]\n",
        "\n",
        "# 打印逻辑回归混淆矩阵\n",
        "print(f\"Confusion Matrix for Logistic Regression:\\nTP: {tp_lr}, TN: {tn_lr}, FP: {fp_lr}, FN: {fn_lr}\")\n",
        "\n",
        "# 计算TPR和FPR\n",
        "tpr_lr = tp_lr / (tp_lr + fn_lr)  # True Positive Rate (Sensitivity/Recall)\n",
        "fpr_lr = fp_lr / (fp_lr + tn_lr)  # False Positive Rate\n",
        "\n",
        "# 输出TPR和FPR\n",
        "print(f\"Logistic Regression - True Positive Rate (TPR): {tpr_lr:.4f}\")\n",
        "print(f\"Logistic Regression - False Positive Rate (FPR): {fpr_lr:.4f}\")"
      ],
      "metadata": {
        "colab": {
          "base_uri": "https://localhost:8080/"
        },
        "id": "WctfKr5-UAHt",
        "outputId": "ba010d79-71d6-40ca-de50-d62c7d0bc16e"
      },
      "execution_count": 13,
      "outputs": [
        {
          "output_type": "stream",
          "name": "stdout",
          "text": [
            "Logistic Regression Accuracy with Binary Labels: 0.6016\n",
            "+-----+----------+-----+\n",
            "|label|prediction|count|\n",
            "+-----+----------+-----+\n",
            "|    1|       0.0| 4251|\n",
            "|    0|       0.0| 6758|\n",
            "|    1|       1.0| 5268|\n",
            "|    0|       1.0| 3712|\n",
            "+-----+----------+-----+\n",
            "\n",
            "Confusion Matrix for Logistic Regression:\n",
            "TP: 5268, TN: 6758, FP: 3712, FN: 4251\n",
            "Logistic Regression - True Positive Rate (TPR): 0.5534\n",
            "Logistic Regression - False Positive Rate (FPR): 0.3545\n"
          ]
        }
      ]
    },
    {
      "cell_type": "code",
      "source": [
        "accuracy = (tp_lr + tn_lr) / (tp_lr+tn_lr+fp_lr+fn_lr)\n",
        "precision = tp_lr / (tp_lr + fp_lr) if (tp_lr + fp_lr) > 0 else 0.0\n",
        "recall = tp_lr / (tp_lr + fn_lr) if (tp_lr + fn_lr) > 0 else 0.0\n",
        "f1_score = 2 * precision * recall / (precision + recall) if (precision + recall) > 0 else 0.0\n",
        "\n",
        "print(f\"Accuracy: {accuracy:.4f}\")\n",
        "print(f\"Precision: {precision:.4f}\")\n",
        "print(f\"Recall: {recall:.4f}\")\n",
        "print(f\"F1 Score: {f1_score:.4f}\")"
      ],
      "metadata": {
        "colab": {
          "base_uri": "https://localhost:8080/"
        },
        "id": "ib6nA21aYKDr",
        "outputId": "e3a052b4-d4b8-40e2-834d-0a490e8bd4de"
      },
      "execution_count": 18,
      "outputs": [
        {
          "output_type": "stream",
          "name": "stdout",
          "text": [
            "Accuracy: 0.6016\n",
            "Precision: 0.5866\n",
            "Recall: 0.5534\n",
            "F1 Score: 0.5695\n"
          ]
        }
      ]
    },
    {
      "cell_type": "code",
      "source": [
        "# 9. 支持向量机 (SVM) 模型\n",
        "# 初始化SVM模型\n",
        "svm = LinearSVC(featuresCol=\"features\", labelCol=\"label\", maxIter=10)\n",
        "\n",
        "# 训练SVM模型\n",
        "svm_model = svm.fit(train)\n",
        "\n",
        "# 在测试集上进行预测\n",
        "svm_predictions = svm_model.transform(test)\n",
        "\n",
        "# 评估SVM模型性能\n",
        "svm_accuracy = evaluator.evaluate(svm_predictions)\n",
        "print(f\"SVM Accuracy with Binary Labels: {svm_accuracy:.4f}\")\n",
        "\n",
        "# 计算SVM模型的混淆矩阵\n",
        "svm_conf_matrix = svm_predictions.groupBy(\"label\", \"prediction\").count()\n",
        "svm_conf_matrix.show()\n",
        "\n",
        "# 计算混淆矩阵的四个核心值\n",
        "tp_svm = svm_conf_matrix.filter((col(\"label\") == 1) & (col(\"prediction\") == 1)).select(F.col(\"count\")).collect()[0][0]\n",
        "tn_svm = svm_conf_matrix.filter((col(\"label\") == 0) & (col(\"prediction\") == 0)).select(F.col(\"count\")).collect()[0][0]\n",
        "fp_svm = svm_conf_matrix.filter((col(\"label\") == 0) & (col(\"prediction\") == 1)).select(F.col(\"count\")).collect()[0][0]\n",
        "fn_svm = svm_conf_matrix.filter((col(\"label\") == 1) & (col(\"prediction\") == 0)).select(F.col(\"count\")).collect()[0][0]\n",
        "\n",
        "# 打印SVM混淆矩阵\n",
        "print(f\"Confusion Matrix for SVM:\\nTP: {tp_svm}, TN: {tn_svm}, FP: {fp_svm}, FN: {fn_svm}\")\n",
        "\n",
        "# 计算SVM的TPR和FPR\n",
        "tpr_svm = tp_svm / (tp_svm + fn_svm)  # True Positive Rate (Sensitivity/Recall)\n",
        "fpr_svm = fp_svm / (fp_svm + tn_svm)  # False Positive Rate\n",
        "\n",
        "# 输出SVM的TPR和FPR\n",
        "print(f\"SVM - True Positive Rate (TPR): {tpr_svm:.4f}\")\n",
        "print(f\"SVM - False Positive Rate (FPR): {fpr_svm:.4f}\")"
      ],
      "metadata": {
        "colab": {
          "base_uri": "https://localhost:8080/"
        },
        "id": "VpuANiBeUEfE",
        "outputId": "72dbd4f2-440f-4c3c-80d7-7c2dae314840"
      },
      "execution_count": 14,
      "outputs": [
        {
          "output_type": "stream",
          "name": "stdout",
          "text": [
            "SVM Accuracy with Binary Labels: 0.5988\n",
            "+-----+----------+-----+\n",
            "|label|prediction|count|\n",
            "+-----+----------+-----+\n",
            "|    1|       0.0| 4350|\n",
            "|    0|       0.0| 6801|\n",
            "|    1|       1.0| 5169|\n",
            "|    0|       1.0| 3669|\n",
            "+-----+----------+-----+\n",
            "\n",
            "Confusion Matrix for SVM:\n",
            "TP: 5169, TN: 6801, FP: 3669, FN: 4350\n",
            "SVM - True Positive Rate (TPR): 0.5430\n",
            "SVM - False Positive Rate (FPR): 0.3504\n"
          ]
        }
      ]
    },
    {
      "cell_type": "code",
      "source": [
        "accuracy = (tp_svm + tn_svm) / (tp_svm+tn_svm+fp_svm+fn_svm)\n",
        "precision = tp_svm / (tp_svm + fp_svm) if (tp_svm + fp_svm) > 0 else 0.0\n",
        "recall = tp_svm / (tp_svm + fn_svm) if (tp_svm + fn_svm) > 0 else 0.0\n",
        "f1_score = 2 * precision * recall / (precision + recall) if (precision + recall) > 0 else 0.0\n",
        "\n",
        "print(f\"Accuracy: {accuracy:.4f}\")\n",
        "print(f\"Precision: {precision:.4f}\")\n",
        "print(f\"Recall: {recall:.4f}\")\n",
        "print(f\"F1 Score: {f1_score:.4f}\")"
      ],
      "metadata": {
        "colab": {
          "base_uri": "https://localhost:8080/"
        },
        "id": "G5brkRYhXFC1",
        "outputId": "3e70adf2-0776-498a-ab32-ef5d17ada672"
      },
      "execution_count": 17,
      "outputs": [
        {
          "output_type": "stream",
          "name": "stdout",
          "text": [
            "Accuracy: 0.5988\n",
            "Precision: 0.5849\n",
            "Recall: 0.5430\n",
            "F1 Score: 0.5632\n"
          ]
        }
      ]
    },
    {
      "cell_type": "code",
      "source": [
        "# 停止Spark Session\n",
        "spark.stop()"
      ],
      "metadata": {
        "id": "QwYgji9zUaGR"
      },
      "execution_count": null,
      "outputs": []
    }
  ]
}