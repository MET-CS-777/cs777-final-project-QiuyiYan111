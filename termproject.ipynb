{
  "nbformat": 4,
  "nbformat_minor": 0,
  "metadata": {
    "colab": {
      "provenance": []
    },
    "kernelspec": {
      "name": "python3",
      "display_name": "Python 3"
    },
    "language_info": {
      "name": "python"
    }
  },
  "cells": [
    {
      "cell_type": "code",
      "execution_count": 1,
      "metadata": {
        "colab": {
          "base_uri": "https://localhost:8080/"
        },
        "id": "IyCkYpoDnW5B",
        "outputId": "94b9aea8-b050-4b5b-d2c6-49dcffb13735"
      },
      "outputs": [
        {
          "output_type": "stream",
          "name": "stdout",
          "text": [
            "\u001b[2K     \u001b[90m━━━━━━━━━━━━━━━━━━━━━━━━━━━━━━━━━━━━━━━━\u001b[0m \u001b[32m281.4/281.4 MB\u001b[0m \u001b[31m5.0 MB/s\u001b[0m eta \u001b[36m0:00:00\u001b[0m\n",
            "\u001b[?25h  Preparing metadata (setup.py) ... \u001b[?25l\u001b[?25hdone\n",
            "\u001b[2K   \u001b[90m━━━━━━━━━━━━━━━━━━━━━━━━━━━━━━━━━━━━━━━━\u001b[0m \u001b[32m199.0/199.0 kB\u001b[0m \u001b[31m11.2 MB/s\u001b[0m eta \u001b[36m0:00:00\u001b[0m\n",
            "\u001b[?25h  Building wheel for pyspark (setup.py) ... \u001b[?25l\u001b[?25hdone\n"
          ]
        }
      ],
      "source": [
        "!pip install --ignore-installed -q pyspark==3.2.1"
      ]
    },
    {
      "cell_type": "code",
      "source": [
        "from google.colab import drive\n",
        "drive.mount('/content/drive')"
      ],
      "metadata": {
        "colab": {
          "base_uri": "https://localhost:8080/"
        },
        "id": "N7yRqCIqFkhQ",
        "outputId": "6e9d9065-5ca8-47ac-918b-6400eb6081cf"
      },
      "execution_count": 2,
      "outputs": [
        {
          "output_type": "stream",
          "name": "stdout",
          "text": [
            "Mounted at /content/drive\n"
          ]
        }
      ]
    },
    {
      "cell_type": "code",
      "source": [
        "from pyspark.sql import SparkSession\n",
        "from pyspark.sql import functions as F\n",
        "from pyspark.ml.feature import StringIndexer, OneHotEncoder, VectorAssembler\n",
        "from pyspark.ml.classification import LogisticRegression\n",
        "from pyspark.ml import Pipeline\n",
        "from pyspark.ml.evaluation import MulticlassClassificationEvaluator, BinaryClassificationEvaluator\n",
        "from pyspark.sql.functions import col, split, array, collect_list,when,explode\n",
        "from pyspark.ml.feature import Tokenizer, CountVectorizer\n",
        "from pyspark.ml.classification import LogisticRegression, LinearSVC\n",
        "from pyspark.mllib.evaluation import MulticlassMetrics\n",
        "from pyspark.sql import SparkSession\n",
        "from pyspark.sql.functions import col, when, split\n",
        "from pyspark.ml.feature import StringIndexer, VectorAssembler, HashingTF, IDF\n",
        "from pyspark.ml.classification import LogisticRegression, LinearSVC\n",
        "from pyspark.ml.evaluation import MulticlassClassificationEvaluator"
      ],
      "metadata": {
        "id": "DRVI8iD1pJhE"
      },
      "execution_count": 42,
      "outputs": []
    },
    {
      "cell_type": "code",
      "source": [
        "# Create a Spark session\n",
        "spark = SparkSession.builder \\\n",
        "    .appName(\"Movie Rating Prediction with Logistic Regression Using MovieLens Dataset\") \\\n",
        "    .getOrCreate()\n",
        "\n",
        "# Load the ratings and movies datasets\n",
        "ratings = spark.read.csv(\"/content/drive/MyDrive/ratingsmall.csv\", header=True, inferSchema=True)\n",
        "movies = spark.read.csv(\"/content/drive/MyDrive/moviesmall.csv\", header=True, inferSchema=True)\n",
        "#tags = spark.read.csv(\"/content/drive/MyDrive/tags.csv\", header=True, inferSchema=True)\n",
        "\n",
        "\n",
        "print(\"Ratings Schema:\")\n",
        "ratings.printSchema()\n",
        "\n",
        "print(\"Movies Schema:\")\n",
        "movies.printSchema()\n",
        "\n",
        "#print(\"Tags Schema:\")\n",
        "#tags.printSchema()\n"
      ],
      "metadata": {
        "colab": {
          "base_uri": "https://localhost:8080/"
        },
        "id": "FDVZ3j_zpafn",
        "outputId": "dbd4ca44-d5b8-45ee-8bdc-281eefb1bea2"
      },
      "execution_count": 37,
      "outputs": [
        {
          "output_type": "stream",
          "name": "stdout",
          "text": [
            "Ratings Schema:\n",
            "root\n",
            " |-- userId: integer (nullable = true)\n",
            " |-- movieId: integer (nullable = true)\n",
            " |-- rating: double (nullable = true)\n",
            " |-- timestamp: integer (nullable = true)\n",
            "\n",
            "Movies Schema:\n",
            "root\n",
            " |-- movieId: integer (nullable = true)\n",
            " |-- title: string (nullable = true)\n",
            " |-- genres: string (nullable = true)\n",
            "\n"
          ]
        }
      ]
    },
    {
      "cell_type": "code",
      "source": [
        "# Show the first few rows of the DataFrames\n",
        "ratings.show()\n",
        "movies.show()\n",
        "#tags.show()"
      ],
      "metadata": {
        "colab": {
          "base_uri": "https://localhost:8080/"
        },
        "id": "qMovt9N1qIam",
        "outputId": "ae0fc4d1-3e85-452b-9b07-124e8d713ce0"
      },
      "execution_count": 38,
      "outputs": [
        {
          "output_type": "stream",
          "name": "stdout",
          "text": [
            "+------+-------+------+---------+\n",
            "|userId|movieId|rating|timestamp|\n",
            "+------+-------+------+---------+\n",
            "|     1|      1|   4.0|964982703|\n",
            "|     1|      3|   4.0|964981247|\n",
            "|     1|      6|   4.0|964982224|\n",
            "|     1|     47|   5.0|964983815|\n",
            "|     1|     50|   5.0|964982931|\n",
            "|     1|     70|   3.0|964982400|\n",
            "|     1|    101|   5.0|964980868|\n",
            "|     1|    110|   4.0|964982176|\n",
            "|     1|    151|   5.0|964984041|\n",
            "|     1|    157|   5.0|964984100|\n",
            "|     1|    163|   5.0|964983650|\n",
            "|     1|    216|   5.0|964981208|\n",
            "|     1|    223|   3.0|964980985|\n",
            "|     1|    231|   5.0|964981179|\n",
            "|     1|    235|   4.0|964980908|\n",
            "|     1|    260|   5.0|964981680|\n",
            "|     1|    296|   3.0|964982967|\n",
            "|     1|    316|   3.0|964982310|\n",
            "|     1|    333|   5.0|964981179|\n",
            "|     1|    349|   4.0|964982563|\n",
            "+------+-------+------+---------+\n",
            "only showing top 20 rows\n",
            "\n",
            "+-------+--------------------+--------------------+\n",
            "|movieId|               title|              genres|\n",
            "+-------+--------------------+--------------------+\n",
            "|      1|    Toy Story (1995)|Adventure|Animati...|\n",
            "|      2|      Jumanji (1995)|Adventure|Childre...|\n",
            "|      3|Grumpier Old Men ...|      Comedy|Romance|\n",
            "|      4|Waiting to Exhale...|Comedy|Drama|Romance|\n",
            "|      5|Father of the Bri...|              Comedy|\n",
            "|      6|         Heat (1995)|Action|Crime|Thri...|\n",
            "|      7|      Sabrina (1995)|      Comedy|Romance|\n",
            "|      8| Tom and Huck (1995)|  Adventure|Children|\n",
            "|      9| Sudden Death (1995)|              Action|\n",
            "|     10|    GoldenEye (1995)|Action|Adventure|...|\n",
            "|     11|American Presiden...|Comedy|Drama|Romance|\n",
            "|     12|Dracula: Dead and...|       Comedy|Horror|\n",
            "|     13|        Balto (1995)|Adventure|Animati...|\n",
            "|     14|        Nixon (1995)|               Drama|\n",
            "|     15|Cutthroat Island ...|Action|Adventure|...|\n",
            "|     16|       Casino (1995)|         Crime|Drama|\n",
            "|     17|Sense and Sensibi...|       Drama|Romance|\n",
            "|     18|   Four Rooms (1995)|              Comedy|\n",
            "|     19|Ace Ventura: When...|              Comedy|\n",
            "|     20|  Money Train (1995)|Action|Comedy|Cri...|\n",
            "+-------+--------------------+--------------------+\n",
            "only showing top 20 rows\n",
            "\n"
          ]
        }
      ]
    },
    {
      "cell_type": "code",
      "source": [
        "# 将评分转换为二分类: 1 表示评分 >= 4.0，0 表示 < 4.0\n",
        "ratings = ratings.withColumn(\"label\", (col(\"rating\") >= 4).cast(\"integer\"))\n",
        "ratings.printSchema()\n",
        "ratings.show()"
      ],
      "metadata": {
        "colab": {
          "base_uri": "https://localhost:8080/"
        },
        "id": "uI5B3DVerD1R",
        "outputId": "8acf18b5-047d-41f2-98fa-9dce41cf6ba3"
      },
      "execution_count": 39,
      "outputs": [
        {
          "output_type": "stream",
          "name": "stdout",
          "text": [
            "root\n",
            " |-- userId: integer (nullable = true)\n",
            " |-- movieId: integer (nullable = true)\n",
            " |-- rating: double (nullable = true)\n",
            " |-- timestamp: integer (nullable = true)\n",
            " |-- label: integer (nullable = true)\n",
            "\n",
            "+------+-------+------+---------+-----+\n",
            "|userId|movieId|rating|timestamp|label|\n",
            "+------+-------+------+---------+-----+\n",
            "|     1|      1|   4.0|964982703|    1|\n",
            "|     1|      3|   4.0|964981247|    1|\n",
            "|     1|      6|   4.0|964982224|    1|\n",
            "|     1|     47|   5.0|964983815|    1|\n",
            "|     1|     50|   5.0|964982931|    1|\n",
            "|     1|     70|   3.0|964982400|    0|\n",
            "|     1|    101|   5.0|964980868|    1|\n",
            "|     1|    110|   4.0|964982176|    1|\n",
            "|     1|    151|   5.0|964984041|    1|\n",
            "|     1|    157|   5.0|964984100|    1|\n",
            "|     1|    163|   5.0|964983650|    1|\n",
            "|     1|    216|   5.0|964981208|    1|\n",
            "|     1|    223|   3.0|964980985|    0|\n",
            "|     1|    231|   5.0|964981179|    1|\n",
            "|     1|    235|   4.0|964980908|    1|\n",
            "|     1|    260|   5.0|964981680|    1|\n",
            "|     1|    296|   3.0|964982967|    0|\n",
            "|     1|    316|   3.0|964982310|    0|\n",
            "|     1|    333|   5.0|964981179|    1|\n",
            "|     1|    349|   4.0|964982563|    1|\n",
            "+------+-------+------+---------+-----+\n",
            "only showing top 20 rows\n",
            "\n"
          ]
        }
      ]
    },
    {
      "cell_type": "code",
      "source": [
        "user_indexer = StringIndexer(inputCol=\"userId\", outputCol=\"userIndex\").fit(ratings)\n",
        "movie_indexer = StringIndexer(inputCol=\"movieId\", outputCol=\"movieIndex\").fit(ratings)\n",
        "\n",
        "ratings = user_indexer.transform(ratings)\n",
        "ratings = movie_indexer.transform(ratings)\n"
      ],
      "metadata": {
        "id": "QI6r-8IhPy2o"
      },
      "execution_count": 40,
      "outputs": []
    },
    {
      "cell_type": "code",
      "source": [
        "# 3. 处理电影的genres列\n",
        "# 将genres列按'|'分割为数组\n",
        "#movies = movies.withColumn(\"genres\", split(col(\"genres\"), \"\\|\"))\n",
        "\n",
        "# 4. 使用TF-IDF处理genres特征\n",
        "# 计算TF向量\n",
        "hashingTF = HashingTF(inputCol=\"genres\", outputCol=\"rawGenreFeatures\", numFeatures=20)  # 这里的numFeatures可以调整\n",
        "movies = hashingTF.transform(movies)\n",
        "\n",
        "# 计算TF-IDF向量\n",
        "idf = IDF(inputCol=\"rawGenreFeatures\", outputCol=\"genreFeatures\")\n",
        "idf_model = idf.fit(movies)\n",
        "movies = idf_model.transform(movies)"
      ],
      "metadata": {
        "id": "_hXqEkDgPw4V"
      },
      "execution_count": 44,
      "outputs": []
    },
    {
      "cell_type": "code",
      "source": [
        "# 4. 将处理后的movies数据与ratings数据结合\n",
        "ratings_with_genres = ratings.join(movies.select(\"movieId\", \"genreFeatures\"), on=\"movieId\", how=\"left\")"
      ],
      "metadata": {
        "id": "Grnyo4_BQMIj"
      },
      "execution_count": 45,
      "outputs": []
    },
    {
      "cell_type": "code",
      "source": [
        "# 5. 将所有特征合并为一个特征向量\n",
        "assembler = VectorAssembler(inputCols=[\"userIndex\", \"movieIndex\", \"timestamp\", \"genreFeatures\"], outputCol=\"features\")\n",
        "ratings_with_genres = assembler.transform(ratings_with_genres)\n"
      ],
      "metadata": {
        "id": "2kRVooAOQO0U"
      },
      "execution_count": 46,
      "outputs": []
    },
    {
      "cell_type": "code",
      "source": [
        "# 6. 分割数据为训练集和测试集\n",
        "train, test = ratings_with_genres.randomSplit([0.8, 0.2], seed=1234)"
      ],
      "metadata": {
        "id": "I9vtTQQeQP0K"
      },
      "execution_count": 47,
      "outputs": []
    },
    {
      "cell_type": "code",
      "source": [
        "# 7. 逻辑回归模型\n",
        "# 初始化逻辑回归模型\n",
        "lr = LogisticRegression(featuresCol=\"features\", labelCol=\"label\", maxIter=10)\n",
        "\n",
        "# 训练逻辑回归模型\n",
        "lr_model = lr.fit(train)\n",
        "\n",
        "# 在测试集上进行预测\n",
        "lr_predictions = lr_model.transform(test)\n",
        "\n",
        "# 评估逻辑回归模型性能\n",
        "evaluator = MulticlassClassificationEvaluator(labelCol=\"label\", predictionCol=\"prediction\", metricName=\"accuracy\")\n",
        "lr_accuracy = evaluator.evaluate(lr_predictions)\n",
        "print(f\"Logistic Regression Accuracy with Binary Labels: {lr_accuracy:.4f}\")"
      ],
      "metadata": {
        "colab": {
          "base_uri": "https://localhost:8080/"
        },
        "id": "oIX6Ef7UQRyz",
        "outputId": "2398208b-0d72-43b8-b26a-2e5ac8325ee0"
      },
      "execution_count": 48,
      "outputs": [
        {
          "output_type": "stream",
          "name": "stdout",
          "text": [
            "Logistic Regression Accuracy with Binary Labels: 0.5961\n"
          ]
        }
      ]
    },
    {
      "cell_type": "code",
      "source": [
        "# 9. 计算逻辑回归模型的混淆矩阵\n",
        "lr_conf_matrix = lr_predictions.groupBy(\"label\", \"prediction\").count()\n",
        "lr_conf_matrix.show()\n",
        "\n",
        "# 计算混淆矩阵的四个核心值\n",
        "tp = lr_conf_matrix.filter((col(\"label\") == 1) & (col(\"prediction\") == 1)).select(F.col(\"count\")).collect()[0][0]\n",
        "tn = lr_conf_matrix.filter((col(\"label\") == 0) & (col(\"prediction\") == 0)).select(F.col(\"count\")).collect()[0][0]\n",
        "fp = lr_conf_matrix.filter((col(\"label\") == 0) & (col(\"prediction\") == 1)).select(F.col(\"count\")).collect()[0][0]\n",
        "fn = lr_conf_matrix.filter((col(\"label\") == 1) & (col(\"prediction\") == 0)).select(F.col(\"count\")).collect()[0][0]\n",
        "# 计算TPR和FPR\n",
        "tpr = tp / (tp + fn)  # True Positive Rate (Sensitivity/Recall)\n",
        "fpr = fp / (fp + tn)  # False Positive Rate\n",
        "\n",
        "\n",
        "print(f\"Confusion Matrix for Logistic Regression:\\nTP: {tp}, TN: {tn}, FP: {fp}, FN: {fn}\")\n",
        "# 输出TPR和FPR\n",
        "print(f\"True Positive Rate (TPR): {tpr:.4f}\")\n",
        "print(f\"False Positive Rate (FPR): {fpr:.4f}\")"
      ],
      "metadata": {
        "colab": {
          "base_uri": "https://localhost:8080/"
        },
        "id": "hfLuXJV7Qtyg",
        "outputId": "fae6becd-21c1-44ed-bb72-de3763377ab1"
      },
      "execution_count": 50,
      "outputs": [
        {
          "output_type": "stream",
          "name": "stdout",
          "text": [
            "+-----+----------+-----+\n",
            "|label|prediction|count|\n",
            "+-----+----------+-----+\n",
            "|    1|       0.0| 4371|\n",
            "|    0|       0.0| 6767|\n",
            "|    1|       1.0| 5148|\n",
            "|    0|       1.0| 3703|\n",
            "+-----+----------+-----+\n",
            "\n",
            "Confusion Matrix for Logistic Regression:\n",
            "TP: 5148, TN: 6767, FP: 3703, FN: 4371\n",
            "True Positive Rate (TPR): 0.5408\n",
            "False Positive Rate (FPR): 0.3537\n"
          ]
        }
      ]
    },
    {
      "cell_type": "code",
      "source": [
        "# 8. 支持向量机 (SVM) 模型\n",
        "# 初始化SVM模型\n",
        "svm = LinearSVC(featuresCol=\"features\", labelCol=\"label\", maxIter=10)\n",
        "\n",
        "# 训练SVM模型\n",
        "svm_model = svm.fit(train)\n",
        "\n",
        "# 在测试集上进行预测\n",
        "svm_predictions = svm_model.transform(test)\n",
        "\n",
        "# 评估SVM模型性能\n",
        "svm_accuracy = evaluator.evaluate(svm_predictions)\n",
        "print(f\"SVM Accuracy with Binary Labels: {svm_accuracy:.4f}\")"
      ],
      "metadata": {
        "colab": {
          "base_uri": "https://localhost:8080/"
        },
        "id": "AcI43RY1v5wx",
        "outputId": "387a3688-713e-4463-d67f-6022d7f7e0e9"
      },
      "execution_count": 51,
      "outputs": [
        {
          "output_type": "stream",
          "name": "stdout",
          "text": [
            "SVM Accuracy with Binary Labels: 0.5915\n"
          ]
        }
      ]
    },
    {
      "cell_type": "code",
      "source": [
        "# 计算SVM模型的混淆矩阵\n",
        "svm_conf_matrix = svm_predictions.groupBy(\"label\", \"prediction\").count()\n",
        "svm_conf_matrix.show()\n",
        "\n",
        "# 计算混淆矩阵的四个核心值\n",
        "tp_svm = svm_conf_matrix.filter((col(\"label\") == 1) & (col(\"prediction\") == 1)).select(F.col(\"count\")).collect()[0][0]\n",
        "tn_svm = svm_conf_matrix.filter((col(\"label\") == 0) & (col(\"prediction\") == 0)).select(F.col(\"count\")).collect()[0][0]\n",
        "fp_svm = svm_conf_matrix.filter((col(\"label\") == 0) & (col(\"prediction\") == 1)).select(F.col(\"count\")).collect()[0][0]\n",
        "fn_svm = svm_conf_matrix.filter((col(\"label\") == 1) & (col(\"prediction\") == 0)).select(F.col(\"count\")).collect()[0][0]\n",
        "\n",
        "# 打印SVM混淆矩阵\n",
        "print(f\"Confusion Matrix for SVM:\\nTP: {tp_svm}, TN: {tn_svm}, FP: {fp_svm}, FN: {fn_svm}\")\n",
        "\n",
        "# 计算SVM的TPR和FPR\n",
        "tpr_svm = tp_svm / (tp_svm + fn_svm)  # True Positive Rate (Sensitivity/Recall)\n",
        "fpr_svm = fp_svm / (fp_svm + tn_svm)  # False Positive Rate\n",
        "\n",
        "# 输出SVM的TPR和FPR\n",
        "print(f\"SVM - True Positive Rate (TPR): {tpr_svm:.4f}\")\n",
        "print(f\"SVM - False Positive Rate (FPR): {fpr_svm:.4f}\")"
      ],
      "metadata": {
        "colab": {
          "base_uri": "https://localhost:8080/"
        },
        "id": "nyL3tjrTwL60",
        "outputId": "9a984d1f-3f7d-4372-ed9c-129453d77867"
      },
      "execution_count": 52,
      "outputs": [
        {
          "output_type": "stream",
          "name": "stdout",
          "text": [
            "+-----+----------+-----+\n",
            "|label|prediction|count|\n",
            "+-----+----------+-----+\n",
            "|    1|       0.0| 4599|\n",
            "|    0|       0.0| 6904|\n",
            "|    1|       1.0| 4920|\n",
            "|    0|       1.0| 3566|\n",
            "+-----+----------+-----+\n",
            "\n",
            "Confusion Matrix for SVM:\n",
            "TP: 4920, TN: 6904, FP: 3566, FN: 4599\n",
            "SVM - True Positive Rate (TPR): 0.5169\n",
            "SVM - False Positive Rate (FPR): 0.3406\n"
          ]
        }
      ]
    },
    {
      "cell_type": "code",
      "source": [
        "spark.stop()"
      ],
      "metadata": {
        "id": "xiJgS2wVqM9y"
      },
      "execution_count": null,
      "outputs": []
    }
  ]
}